{
 "cells": [
  {
   "cell_type": "markdown",
   "metadata": {
    "id": "XzCGrxnONvBj"
   },
   "source": [
    "# Params"
   ]
  },
  {
   "cell_type": "code",
   "execution_count": 1,
   "metadata": {
    "executionInfo": {
     "elapsed": 2658,
     "status": "ok",
     "timestamp": 1654115944481,
     "user": {
      "displayName": "Fabian Wolf",
      "userId": "09467462183684170769"
     },
     "user_tz": -120
    },
    "id": "xxE38tsiNqub"
   },
   "outputs": [],
   "source": [
    "import os\n",
    "import tensorflow as tf\n",
    "\n",
    "SEED = 651987423\n",
    "MODEL_NAME = 'Cellpose3D-Semanitc-Test'\n",
    "IMG_SHAPE = (256,256,256,5) #Patching assumes IMG, and INPUT shape are cubic, d.h. H=W=D\n",
    "INPUT_SHAPE = (64,64,64,5)\n",
    "FEAT_CHANNELS = 16\n",
    "FLOW_WEIGHT = 1\n",
    "BG_WEIGHT = 1\n",
    "\n",
    "os.makedirs(f'models/{MODEL_NAME}', exist_ok = True)\n",
    "\n",
    "N_VAL, N_TEST = 1000, 5000\n",
    "BATCH_SIZE = 16 # used batch size 64 for Cellpose3D\n",
    "INITIAL_EPOCH = 0\n",
    "INITIAL_LR = 0.001\n",
    "N_EPOCHS = 100\n",
    "N_PER_EPOCH = 1600 // BATCH_SIZE\n",
    "\n",
    "OPT = tf.keras.optimizers.Adam(learning_rate=INITIAL_LR)\n",
    "# TODO METRICS, LRSchedule, DATA AUGMENT"
   ]
  },
  {
   "cell_type": "markdown",
   "metadata": {
    "id": "E1X_0bPhNzPB"
   },
   "source": [
    "# Load Data"
   ]
  },
  {
   "cell_type": "code",
   "execution_count": 2,
   "metadata": {
    "executionInfo": {
     "elapsed": 8,
     "status": "ok",
     "timestamp": 1654115944482,
     "user": {
      "displayName": "Fabian Wolf",
      "userId": "09467462183684170769"
     },
     "user_tz": -120
    },
    "id": "Ffc1916ON5E0"
   },
   "outputs": [],
   "source": [
    "import numpy as np\n",
    "\n",
    "class Patch_Iterator():\n",
    "    def __init__(self, img_shape, input_shape, n_val, n_test):\n",
    "        samples = self.cartesian_product(np.arange(img_shape[0]-input_shape[0]), np.arange(img_shape[1]-input_shape[1]), np.arange(img_shape[2]-input_shape[2]))\n",
    "        np.random.shuffle(samples)\n",
    "        \n",
    "        self.train, self.val, self.test = samples[n_test+n_val:], samples[n_test:n_test+n_val], samples[:n_test]\n",
    "        self.n_train, self.n_val, self.n_test = len(self.train), n_val, n_test\n",
    "        self.next_train, self.next_val, self.next_test = 0,0,0\n",
    "        \n",
    "    def cartesian_product(self, *arrays):\n",
    "        la = len(arrays)\n",
    "        dtype = np.result_type(*arrays)\n",
    "        arr = np.empty([len(a) for a in arrays] + [la], dtype=dtype)\n",
    "        for i, a in enumerate(np.ix_(*arrays)):\n",
    "            arr[...,i] = a\n",
    "        return arr.reshape(-1, la)\n",
    "    \n",
    "    def get_next(self, dataset='train'):\n",
    "        if dataset=='test':\n",
    "            res = self.test[self.next_test] \n",
    "            self.next_test = (self.next_test + 1) % self.n_test\n",
    "            return res\n",
    "        elif dataset=='val':\n",
    "            res = self.val[self.next_val] \n",
    "            self.next_val = (self.next_val + 1) % self.n_val\n",
    "            return res\n",
    "        else:\n",
    "            res = self.train[self.next_train]\n",
    "            self.next_train = (self.next_train + 1) % self.n_train\n",
    "            return res"
   ]
  },
  {
   "cell_type": "code",
   "execution_count": 4,
   "metadata": {
    "colab": {
     "base_uri": "https://localhost:8080/"
    },
    "executionInfo": {
     "elapsed": 32271,
     "status": "ok",
     "timestamp": 1654115976746,
     "user": {
      "displayName": "Fabian Wolf",
      "userId": "09467462183684170769"
     },
     "user_tz": -120
    },
    "id": "m-p70E6yjrJ0",
    "outputId": "9edd4e1a-d526-427f-94ef-ee313faf089c"
   },
   "outputs": [
    {
     "name": "stderr",
     "output_type": "stream",
     "text": [
      "2022-06-07 16:49:23.842527: I tensorflow/core/platform/cpu_feature_guard.cc:142] This TensorFlow binary is optimized with oneAPI Deep Neural Network Library (oneDNN) to use the following CPU instructions in performance-critical operations:  AVX2 FMA\n",
      "To enable them in other operations, rebuild TensorFlow with the appropriate compiler flags.\n",
      "2022-06-07 16:49:24.520975: I tensorflow/core/common_runtime/gpu/gpu_device.cc:1510] Created device /job:localhost/replica:0/task:0/device:GPU:0 with 43680 MB memory:  -> device: 0, name: NVIDIA A40, pci bus id: 0000:41:00.0, compute capability: 8.6\n",
      "2022-06-07 16:49:24.521617: I tensorflow/core/common_runtime/gpu/gpu_device.cc:1510] Created device /job:localhost/replica:0/task:0/device:GPU:1 with 43680 MB memory:  -> device: 1, name: NVIDIA A40, pci bus id: 0000:a1:00.0, compute capability: 8.6\n"
     ]
    }
   ],
   "source": [
    "import tensorflow as tf \n",
    "import numpy as np\n",
    "import glob\n",
    "import os\n",
    "import random\n",
    "\n",
    "def load_data(path):\n",
    "    fn = os.path.split(path)[-1]\n",
    "    img = np.load(os.path.join('data', 'images', fn))\n",
    "    mask = np.load(os.path.join('data', 'masks', fn))\n",
    "    return img, mask\n",
    "\n",
    "def get_patch(img, patch_shape, x_start, y_start, z_start):\n",
    "    '''random tile strategy'''\n",
    "    x_end = x_start + patch_shape[0]\n",
    "    y_end = y_start + patch_shape[1]\n",
    "    z_end = z_start + patch_shape[2]\n",
    "    return img[x_start:x_end, y_start:y_end, z_start:z_end, :]\n",
    "\n",
    "def create_patch_data(patch_shape, patch_iterator, dataset='train'):\n",
    "    \n",
    "    def patch_data(img, mask):\n",
    "        x_start, y_start, z_start = patch_iterator.get_next(dataset=dataset)\n",
    "        img = get_patch(img, patch_shape, x_start, y_start, z_start)\n",
    "        mask = get_patch(mask, patch_shape, x_start, y_start, z_start)\n",
    "        return img, mask\n",
    "        \n",
    "    return patch_data\n",
    "\n",
    "def data_augment(img, mask):\n",
    "    # TODO Implement, wichtig img, flow, mask sind tensoren\n",
    "    # Original Paper: 'scale', 'noise', 'shuffle', 'inpaint', 'decline', 'variance_sampling', 'stretch', 'shrink', 'anisotropy' (Cellpose3D/dataloader/augmenter.py)\n",
    "    return img, mask\n",
    "\n",
    "def get_dataset(paths, patch_iterator, patch_size=64, dataset='train', augment=False):\n",
    "    AUTOTUNE = tf.data.experimental.AUTOTUNE \n",
    "    \n",
    "    imgs = np.zeros((len(paths),*IMG_SHAPE), dtype=np.float32) # for Cellpose-3D (without semantic mask of rachel) shape has to be 256,256,256,1\n",
    "    masks = np.zeros((len(paths),256,256,256,4), dtype=np.float32)\n",
    "    for idx, path in enumerate(paths):\n",
    "        img, mask = load_data(path)\n",
    "        imgs[idx], masks[idx] = img, mask\n",
    "    ds = tf.data.Dataset.from_tensor_slices((imgs, masks))\n",
    "    ds = ds.repeat()\n",
    "    \n",
    "    pd_func = create_patch_data(INPUT_SHAPE, patch_iterator, dataset=dataset)\n",
    "    ds = ds.map(pd_func, num_parallel_calls=AUTOTUNE)\n",
    "\n",
    "    if augment:\n",
    "        ds = ds.map(data_augment, num_parallel_calls=AUTOTUNE)\n",
    "    if dataset == 'train':\n",
    "        ds = ds.shuffle(1000)\n",
    "    \n",
    "    ds = ds.batch(BATCH_SIZE)\n",
    "    ds = ds.prefetch(AUTOTUNE)\n",
    "    return ds\n",
    "\n",
    "\n",
    "paths = sorted(glob.glob(os.path.join('data/images', '*.npy')))\n",
    "patch_iterator = Patch_Iterator(IMG_SHAPE, INPUT_SHAPE, N_VAL, N_TEST)\n",
    "\n",
    "patch_iterator = Patch_Iterator(IMG_SHAPE, INPUT_SHAPE, N_VAL, N_TEST)\n",
    "train_ds = get_dataset(paths, patch_iterator, patch_size=INPUT_SHAPE[0], dataset='train', augment=True)\n",
    "val_ds = get_dataset(paths, patch_iterator, patch_size=INPUT_SHAPE[0], dataset='val', augment=False)\n",
    "test_ds = get_dataset(paths, patch_iterator, patch_size=INPUT_SHAPE[0], dataset='test', augment=False)"
   ]
  },
  {
   "cell_type": "code",
   "execution_count": 5,
   "metadata": {},
   "outputs": [
    {
     "name": "stderr",
     "output_type": "stream",
     "text": [
      "2022-06-07 16:50:47.940816: I tensorflow/compiler/mlir/mlir_graph_optimization_pass.cc:185] None of the MLIR Optimization Passes are enabled (registered 2)\n"
     ]
    },
    {
     "name": "stdout",
     "output_type": "stream",
     "text": [
      "(32, 64, 64, 64, 5) (32, 64, 64, 64, 4)\n",
      "Value Range for FG_Mask: (sigmoid) tf.Tensor(0.0, shape=(), dtype=float32) tf.Tensor(1.0, shape=(), dtype=float32)\n",
      "Value range for flow_mask: (tanh) tf.Tensor(-0.99999094, shape=(), dtype=float32) tf.Tensor(0.9999917, shape=(), dtype=float32)\n"
     ]
    },
    {
     "data": {
      "text/plain": [
       "<matplotlib.image.AxesImage at 0x7f3eac26eb20>"
      ]
     },
     "execution_count": 5,
     "metadata": {},
     "output_type": "execute_result"
    },
    {
     "data": {
      "image/png": "[encoded data removed]",
      "text/plain": [
       "<Figure size 432x288 with 5 Axes>"
      ]
     },
     "metadata": {
      "needs_background": "light"
     },
     "output_type": "display_data"
    }
   ],
   "source": [
    "from matplotlib import pyplot as plt\n",
    "\n",
    "debug_iter = iter(train_ds)\n",
    "fig, axs = plt.subplots(1,5)\n",
    "img_b, mask_b = next(debug_iter)\n",
    "print(img_b.shape, mask_b.shape)\n",
    "print('Value Range for FG_Mask: (sigmoid)', tf.math.reduce_min(mask_b[...,0]), tf.math.reduce_max(mask_b[...,0]))\n",
    "print('Value range for flow_mask: (tanh)', tf.math.reduce_min(mask_b[...,1:]), tf.math.reduce_max(mask_b[...,1:]))\n",
    "axs[0].imshow(img_b[0,32,:,:,0])\n",
    "axs[1].imshow(mask_b[0,32,:,:,0])\n",
    "axs[2].imshow(mask_b[0,32,:,:,1])\n",
    "axs[3].imshow(mask_b[0,32,:,:,2])\n",
    "axs[4].imshow(mask_b[0,32,:,:,3])"
   ]
  },
  {
   "cell_type": "markdown",
   "metadata": {
    "id": "K9qzylryN-UB"
   },
   "source": [
    "# Train Model"
   ]
  },
  {
   "cell_type": "code",
   "execution_count": 6,
   "metadata": {
    "executionInfo": {
     "elapsed": 10,
     "status": "ok",
     "timestamp": 1654115976747,
     "user": {
      "displayName": "Fabian Wolf",
      "userId": "09467462183684170769"
     },
     "user_tz": -120
    },
    "id": "V2ykebLjvudV"
   },
   "outputs": [],
   "source": [
    "mae = tf.keras.losses.MeanAbsoluteError()\n",
    "mse = tf.keras.losses.MeanSquaredError(reduction='none')\n",
    "\n",
    "@tf.function\n",
    "def flow_loss(flow_true, flow_pred, mask):\n",
    "    loss = mse(flow_true, flow_pred)\n",
    "    weight = tf.clip_by_value(mask, 0.01, 1.0) # Weight Gradients that are part of an object more\n",
    "    loss = tf.math.multiply(loss, weight)\n",
    "    loss = tf.math.reduce_sum(loss)\n",
    "    norm = tf.clip_by_value(tf.math.reduce_sum(weight), 1.0, tf.cast(tf.size(mask), tf.float32))\n",
    "    loss = tf.math.truediv(loss, norm)\n",
    "    return loss\n",
    "\n",
    "@tf.function\n",
    "def get_loss(mask_true, mask_pred):\n",
    "    loss_bg = mae(mask_true[:,:,:,:,0], mask_pred[:,:,:,:,0]) # TODO ggf. cross_entropy sinnvoller?\n",
    "    loss_flowx = flow_loss(mask_true[:,:,:,:,1:2], mask_pred[:,:,:,:,1:2], mask_true[:,:,:,:,0])\n",
    "    loss_flowy = flow_loss(mask_true[:,:,:,:,2:3], mask_pred[:,:,:,:,2:3], mask_true[:,:,:,:,0])\n",
    "    loss_flowz = flow_loss(mask_true[:,:,:,:,3:4], mask_pred[:,:,:,:,3:4], mask_true[:,:,:,:,0])\n",
    "    loss_flow = (loss_flowx + loss_flowy + loss_flowz) / 3\n",
    "    loss = BG_WEIGHT * loss_bg + FLOW_WEIGHT * loss_flow\n",
    "    return loss\n",
    "\n",
    "@tf.function\n",
    "def train_step(img, mask_true):\n",
    "    with tf.GradientTape() as grad_tape:\n",
    "        mask_pred = model(img)\n",
    "        loss = get_loss(mask_true, mask_pred)\n",
    "    grads = grad_tape.gradient(loss, model.trainable_weights)\n",
    "    OPT.apply_gradients(zip(grads, model.trainable_weights))\n",
    "    return loss\n",
    "\n",
    "@tf.function\n",
    "def test_step(img, mask_true):\n",
    "    mask_pred = model(img)\n",
    "    loss = get_loss(mask_true, mask_pred)\n",
    "    return loss\n"
   ]
  },
  {
   "cell_type": "code",
   "execution_count": 7,
   "metadata": {
    "colab": {
     "base_uri": "https://localhost:8080/",
     "height": 693
    },
    "executionInfo": {
     "elapsed": 230154,
     "status": "error",
     "timestamp": 1654116206893,
     "user": {
      "displayName": "Fabian Wolf",
      "userId": "09467462183684170769"
     },
     "user_tz": -120
    },
    "id": "I2A8MYVHI1IN",
    "outputId": "f71644bd-a1ca-45de-e482-bdcdea1e6252"
   },
   "outputs": [
    {
     "name": "stderr",
     "output_type": "stream",
     "text": [
      "2022-06-07 16:51:43.467817: I tensorflow/stream_executor/cuda/cuda_dnn.cc:369] Loaded cuDNN version 8101\n",
      "2022-06-07 16:51:44.040334: I tensorflow/core/platform/default/subprocess.cc:304] Start cannot spawn child process: No such file or directory\n",
      "2022-06-07 16:51:44.041466: I tensorflow/core/platform/default/subprocess.cc:304] Start cannot spawn child process: No such file or directory\n",
      "2022-06-07 16:51:44.041551: W tensorflow/stream_executor/gpu/asm_compiler.cc:77] Couldn't get ptxas version string: Internal: Couldn't invoke ptxas --version\n",
      "2022-06-07 16:51:44.042481: I tensorflow/core/platform/default/subprocess.cc:304] Start cannot spawn child process: No such file or directory\n",
      "2022-06-07 16:51:44.042634: W tensorflow/stream_executor/gpu/redzone_allocator.cc:314] Internal: Failed to launch ptxas\n",
      "Relying on driver to perform ptx compilation. \n",
      "Modify $PATH to customize ptxas location.\n",
      "This message will be only logged once.\n"
     ]
    },
    {
     "name": "stdout",
     "output_type": "stream",
     "text": [
      " epoch 1/100, batch 50/50\n",
      "train_loss= 0.7397411024570465, val_loss=  0.7463094072957193\n",
      "loss improved from inf to 0.7463094072957193, best-Cellpose3D-Semanitc.hdf5 saved\n",
      " epoch 2/100, batch 50/50\n",
      "train_loss= 0.38888544380664825, val_loss=  0.6602753746894098\n",
      "loss improved from 0.7463094072957193 to 0.6602753746894098, best-Cellpose3D-Semanitc.hdf5 saved\n",
      " epoch 3/100, batch 50/50\n",
      "train_loss= 0.24732103377580641, val_loss=  0.6977674999544697\n",
      " epoch 4/100, batch 50/50\n",
      "train_loss= 0.14331970542669295, val_loss=  0.7939083460838564\n",
      " epoch 5/100, batch 50/50\n",
      "train_loss= 0.09821400448679923, val_loss=  0.7895579357301036\n",
      " epoch 6/100, batch 50/50\n",
      "train_loss= 0.07541501596570015, val_loss=  0.8002856219968488\n",
      " epoch 7/100, batch 50/50\n",
      "train_loss= 0.06436785906553269, val_loss=  0.7833944347596937\n",
      " epoch 8/100, batch 50/50\n",
      "train_loss= 0.052719818502664564, val_loss=  0.780178306564208\n",
      " epoch 9/100, batch 50/50\n",
      "train_loss= 0.04621117502450943, val_loss=  0.7931941113164348\n",
      " epoch 10/100, batch 50/50\n",
      "train_loss= 0.04190692007541656, val_loss=  0.7844018993839141\n",
      " epoch 11/100, batch 50/50\n",
      "train_loss= 0.03655757158994675, val_loss=  0.7911155146937217\n",
      " epoch 12/100, batch 50/50\n",
      "train_loss= 0.03356701422482729, val_loss=  0.7839870356744335\n",
      " epoch 13/100, batch 50/50\n",
      "train_loss= 0.029771231822669508, val_loss=  0.7829782559025672\n",
      " epoch 14/100, batch 50/50\n",
      "train_loss= 0.027098494693636895, val_loss=  0.7658453468353518\n",
      " epoch 15/100, batch 50/50\n",
      "train_loss= 0.02689758230000734, val_loss=  0.7650750356335794\n",
      " epoch 16/100, batch 50/50\n",
      "train_loss= 0.022435484193265437, val_loss=  0.782630939637461\n",
      " epoch 17/100, batch 50/50\n",
      "train_loss= 0.022610625363886357, val_loss=  0.7810597573557208\n",
      " epoch 18/100, batch 50/50\n",
      "train_loss= 0.019796050824224948, val_loss=  0.7813514528735992\n",
      " epoch 19/100, batch 50/50\n",
      "train_loss= 0.01681519167497754, val_loss=  0.7919291584722458\n",
      " epoch 20/100, batch 50/50\n",
      "train_loss= 0.017285431306809186, val_loss=  0.7810851777753522\n",
      " epoch 21/100, batch 50/50\n",
      "train_loss= 0.016013914346694948, val_loss=  0.7844752957743983\n",
      " epoch 22/100, batch 50/50\n",
      "train_loss= 0.013583677224814891, val_loss=  0.7842077612876892\n",
      " epoch 23/100, batch 50/50\n",
      "train_loss= 0.017415362354367973, val_loss=  0.7683750275642641\n",
      " epoch 24/100, batch 50/50\n",
      "train_loss= 0.012591473273932934, val_loss=  0.7825907295750033\n",
      " epoch 25/100, batch 50/50\n",
      "train_loss= 0.01191996382549405, val_loss=  0.7809970840331046\n",
      " epoch 26/100, batch 50/50\n",
      "train_loss= 0.013289219439029694, val_loss=  0.7663373831779726\n",
      " epoch 27/100, batch 50/50\n",
      "train_loss= 0.01146076012402773, val_loss=  0.7787264700858824\n",
      " epoch 28/100, batch 50/50\n",
      "train_loss= 0.010079383067786694, val_loss=  0.7753654776080963\n",
      " epoch 29/100, batch 50/50\n",
      "train_loss= 0.010675731096416712, val_loss=  0.7853248061672333\n",
      " epoch 30/100, batch 50/50\n",
      "train_loss= 0.01222560677677393, val_loss=  0.7682330108457996\n",
      " epoch 31/100, batch 50/50\n",
      "train_loss= 0.008798883408308028, val_loss=  0.7723833803207644\n",
      " epoch 32/100, batch 50/50\n",
      "train_loss= 0.008786631971597672, val_loss=  0.7760764571928209\n",
      " epoch 33/100, batch 50/50\n",
      "train_loss= 0.008202571561560035, val_loss=  0.7762406833710209\n",
      " epoch 34/100, batch 50/50\n",
      "train_loss= 0.007758571477606893, val_loss=  0.7740248749333043\n",
      " epoch 35/100, batch 50/50\n",
      "train_loss= 0.007874700445681811, val_loss=  0.7772922823506017\n",
      " epoch 36/100, batch 50/50\n",
      "train_loss= 0.0075963947363197806, val_loss=  0.7714395119297889\n",
      " epoch 37/100, batch 50/50\n",
      "train_loss= 0.0075342677254229785, val_loss=  0.7607629760619132\n",
      " epoch 38/100, batch 50/50\n",
      "train_loss= 0.019910131096839905, val_loss=  0.753271302869243\n",
      " epoch 39/100, batch 50/50\n",
      "train_loss= 0.008024677578359842, val_loss=  0.7590448683308016\n",
      " epoch 40/100, batch 50/50\n",
      "train_loss= 0.007406589705497026, val_loss=  0.7589568784159999\n",
      " epoch 41/100, batch 50/50\n",
      "train_loss= 0.006822008127346635, val_loss=  0.7621850525179217\n",
      " epoch 42/100, batch 50/50\n",
      "train_loss= 0.006307078134268522, val_loss=  0.7658175768390778\n",
      " epoch 43/100, batch 50/50\n",
      "train_loss= 0.0060781064350157975, val_loss=  0.7613202083495355\n",
      " epoch 44/100, batch 50/50\n",
      "train_loss= 0.006234321612864733, val_loss=  0.7583449848236576\n",
      " epoch 45/100, batch 50/50\n",
      "train_loss= 0.005787800066173077, val_loss=  0.7647807675023233\n",
      " epoch 46/100, batch 50/50\n",
      "train_loss= 0.010510942041873932, val_loss=  0.7538227246653649\n",
      " epoch 47/100, batch 50/50\n",
      "train_loss= 0.007491153459995985, val_loss=  0.7559228904785649\n",
      " epoch 48/100, batch 50/50\n",
      "train_loss= 0.005780382072553039, val_loss=  0.7573866382721932\n",
      " epoch 49/100, batch 50/50\n",
      "train_loss= 0.00526761899702251, val_loss=  0.7606520229770292\n",
      " epoch 50/100, batch 50/50\n",
      "train_loss= 0.005230473577976227, val_loss=  0.7579216860955761\n",
      " epoch 51/100, batch 50/50\n",
      "train_loss= 0.005163905424997211, val_loss=  0.7583020790930717\n",
      " epoch 52/100, batch 50/50\n",
      "train_loss= 0.005088302418589592, val_loss=  0.759300547261392\n",
      " epoch 53/100, batch 50/50\n",
      "train_loss= 0.004841078948229552, val_loss=  0.760616462076864\n",
      " epoch 54/100, batch 50/50\n",
      "train_loss= 0.014344208529219032, val_loss=  0.7621902535038609\n",
      " epoch 55/100, batch 50/50\n",
      "train_loss= 0.012574276085942984, val_loss=  0.7431180246414677\n",
      " epoch 56/100, batch 50/50\n",
      "train_loss= 0.005991293173283338, val_loss=  0.7426861293854252\n",
      " epoch 57/100, batch 50/50\n",
      "train_loss= 0.005129141630604863, val_loss=  0.7430711234769514\n",
      " epoch 58/100, batch 50/50\n",
      "train_loss= 0.004870080221444369, val_loss=  0.7461172342300415\n",
      " epoch 59/100, batch 50/50\n",
      "train_loss= 0.004597012996673584, val_loss=  0.748418148486845\n",
      " epoch 60/100, batch 50/50\n",
      "train_loss= 0.004679867392405867, val_loss=  0.7434650755697682\n",
      " epoch 61/100, batch 50/50\n",
      "train_loss= 0.004485009275376797, val_loss=  0.7405543327331543\n",
      " epoch 62/100, batch 50/50\n",
      "train_loss= 0.004890308361500502, val_loss=  0.7365496504691339\n",
      " epoch 63/100, batch 50/50\n",
      "train_loss= 0.0042929798318073155, val_loss=  0.7428982873116771\n",
      " epoch 64/100, batch 50/50\n",
      "train_loss= 0.004015041636303067, val_loss=  0.7426594534227925\n",
      " epoch 65/100, batch 50/50\n",
      "train_loss= 0.004231967027299106, val_loss=  0.7391416815019423\n",
      " epoch 66/100, batch 50/50\n",
      "train_loss= 0.0038265142496675254, val_loss=  0.7426395531623594\n",
      " epoch 67/100, batch 50/50\n",
      "train_loss= 0.003879092033021152, val_loss=  0.7439865700660213\n",
      " epoch 68/100, batch 50/50\n",
      "train_loss= 0.003897435190156102, val_loss=  0.7470363493888609\n",
      " epoch 69/100, batch 50/50\n",
      "train_loss= 0.00371566201094538, val_loss=  0.741573808654662\n",
      " epoch 70/100, batch 50/50\n",
      "train_loss= 0.009242417863570154, val_loss=  0.7310800437004336\n",
      " epoch 71/100, batch 50/50\n",
      "train_loss= 0.005854701614007354, val_loss=  0.7296409683842813\n",
      " epoch 72/100, batch 50/50\n",
      "train_loss= 0.0040120567660778764, val_loss=  0.7297427000537995\n",
      " epoch 73/100, batch 50/50\n",
      "train_loss= 0.003837680798023939, val_loss=  0.7321767672415702\n",
      " epoch 74/100, batch 50/50\n",
      "train_loss= 0.003523937095887959, val_loss=  0.7332569014641547\n",
      " epoch 75/100, batch 50/50\n",
      "train_loss= 0.0036304085422307255, val_loss=  0.7326928569424537\n",
      " epoch 76/100, batch 50/50\n",
      "train_loss= 0.0036201521148905157, val_loss=  0.7327595391581135\n",
      " epoch 77/100, batch 50/50\n",
      "train_loss= 0.0033407245250418782, val_loss=  0.733977940774733\n",
      " epoch 78/100, batch 50/50\n",
      "train_loss= 0.0034036046080291272, val_loss=  0.7293044982417938\n",
      " epoch 79/100, batch 50/50\n",
      "train_loss= 0.0033937215991318224, val_loss=  0.7322982011302825\n",
      " epoch 80/100, batch 50/50\n",
      "train_loss= 0.0032354319375008343, val_loss=  0.7339633607095287\n",
      " epoch 81/100, batch 50/50\n",
      "train_loss= 0.0031417685421183707, val_loss=  0.7381960076670493\n",
      " epoch 82/100, batch 50/50\n",
      "train_loss= 0.0034340834617614746, val_loss=  0.7354448072371944\n",
      " epoch 83/100, batch 50/50\n",
      "train_loss= 0.0031583436718210576, val_loss=  0.7358260000905683\n",
      " epoch 84/100, batch 50/50\n",
      "train_loss= 0.0032567320810630916, val_loss=  0.73142005935792\n",
      " epoch 85/100, batch 50/50\n",
      "train_loss= 0.0034487399039790033, val_loss=  0.7296256711406093\n",
      " epoch 86/100, batch 50/50\n",
      "train_loss= 0.003162019751034677, val_loss=  0.7360907466180863\n",
      " epoch 87/100, batch 50/50\n",
      "train_loss= 0.0029006625665351747, val_loss=  0.7324627657090464\n",
      " epoch 88/100, batch 50/50\n",
      "train_loss= 0.0031577483611181377, val_loss=  0.730025795198256\n",
      " epoch 89/100, batch 50/50\n",
      "train_loss= 0.0034508105320855977, val_loss=  0.7337933336534808\n",
      " epoch 90/100, batch 50/50\n",
      "train_loss= 0.0031328305322676896, val_loss=  0.7263827093185917\n",
      " epoch 91/100, batch 50/50\n",
      "train_loss= 1.3091994233522564, val_loss=  1.960557460784912\n",
      " epoch 92/100, batch 50/50\n",
      "train_loss= 1.7518291473388672, val_loss=  1.960557460784912\n",
      " epoch 93/100, batch 50/50\n",
      "train_loss= 1.7518291473388672, val_loss=  1.960557460784912\n",
      " epoch 94/100, batch 50/50\n",
      "train_loss= 1.7518291473388672, val_loss=  1.960557460784912\n",
      " epoch 95/100, batch 50/50\n",
      "train_loss= 1.7518291473388672, val_loss=  1.960557460784912\n",
      " epoch 96/100, batch 50/50\n",
      "train_loss= 1.7518291473388672, val_loss=  1.960557460784912\n",
      " epoch 97/100, batch 50/50\n",
      "train_loss= 1.7518291473388672, val_loss=  1.960557460784912\n",
      " epoch 98/100, batch 50/50\n",
      "train_loss= 1.7518291473388672, val_loss=  1.960557460784912\n",
      " epoch 99/100, batch 50/50\n",
      "train_loss= 1.7518291473388672, val_loss=  1.960557460784912\n",
      " epoch 100/100, batch 50/50\n",
      "train_loss= 1.7518291473388672, val_loss=  1.960557460784912\n"
     ]
    }
   ],
   "source": [
    "#import time\n",
    "from unet3d import UNet3D\n",
    "model = UNet3D(feat_channels=FEAT_CHANNELS) # 4 means one output channel for: fg_bg_mask, flowx, flowy,flowz\n",
    "\n",
    "# this is the right way according to https://www.tensorflow.org/api_docs/python/tf/data/Iterator\n",
    "train_iter = iter(train_ds)\n",
    "val_iter = iter(val_ds)\n",
    "best_loss = float('inf')\n",
    "\n",
    "for epoch in range(N_EPOCHS):\n",
    "    #start_time = time.time()\n",
    "    train_losses = []\n",
    "    val_losses = []\n",
    "    for batch in range(N_PER_EPOCH):\n",
    "        # training\n",
    "        img, mask_true = next(train_iter)\n",
    "        loss = train_step(img, mask_true)\n",
    "        train_losses.append(loss.numpy())\n",
    "        print(f\"\\r epoch {epoch+1}/{N_EPOCHS}, batch {batch+1}/{N_PER_EPOCH}\", end=\"\")\n",
    "\n",
    "    # Validation\n",
    "    for _ in range(N_VAL // BATCH_SIZE):\n",
    "        img, mask_true = next(val_iter)\n",
    "        loss = test_step(img, mask_true)\n",
    "        val_losses.append(loss.numpy())\n",
    "    print('')\n",
    "    #print(f'time taken: {time.time() - start_time}')\n",
    "\n",
    "    # reporting\n",
    "    avg_train_loss = sum(train_losses) / len(train_losses)\n",
    "    avg_val_loss = sum(val_losses) / len(val_losses)\n",
    "    print(f\"train_loss= {avg_train_loss}, val_loss=  {avg_val_loss}\")\n",
    "    with open(f\"models/{MODEL_NAME}/log.csv\",\"a+\") as f:\n",
    "        f.write(f\"{epoch}, {avg_train_loss}, {avg_val_loss}\\n\")\n",
    "    \n",
    "    # saving\n",
    "    if avg_val_loss < best_loss:\n",
    "        model.save_weights(f'models/{MODEL_NAME}/best-{MODEL_NAME}.hdf5')\n",
    "        print(f\"loss improved from {best_loss} to {avg_val_loss}, best-{MODEL_NAME}.hdf5 saved\")\n",
    "        best_loss = avg_val_loss"
   ]
  },
  {
   "cell_type": "markdown",
   "metadata": {
    "id": "ciVbIbVSYh8t"
   },
   "source": [
    "# Evaluation"
   ]
  }
 ],
 "metadata": {
  "accelerator": "GPU",
  "colab": {
   "authorship_tag": "ABX9TyMvW2YYj813hqRq1uL3ns6p",
   "collapsed_sections": [
    "E1X_0bPhNzPB"
   ],
   "name": "train-cellpose-tf_func.ipynb",
   "provenance": []
  },
  "kernelspec": {
   "display_name": "Python 3 (ipykernel)",
   "language": "python",
   "name": "python3"
  },
  "language_info": {
   "codemirror_mode": {
    "name": "ipython",
    "version": 3
   },
   "file_extension": ".py",
   "mimetype": "text/x-python",
   "name": "python",
   "nbconvert_exporter": "python",
   "pygments_lexer": "ipython3",
   "version": "3.9.7"
  }
 },
 "nbformat": 4,
 "nbformat_minor": 4
}
